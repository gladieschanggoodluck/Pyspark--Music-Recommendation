{
 "cells": [
  {
   "cell_type": "markdown",
   "metadata": {},
   "source": [
    "### University of Virginia\n",
    "### DS 5559: Big Data Analytics\n",
    "### Music Recommendation\n",
    "### Last updated: Feb 29, 2020"
   ]
  },
  {
   "cell_type": "markdown",
   "metadata": {},
   "source": [
    "**Instructions**  \n",
    "In this assignment, you will work with a recommendation algorithm based on user listening data from Autoscrobbler.\n",
    "\n",
    "The code is outlined below. Make the requested modifications, run the code, and copy all answers to the **ANSWER SECTION** at the bottom of the notebook. Note the *None* variable is a placeholder for code.\n",
    "\n",
    "NOTE: For a given userID, some/many recommendation might come back as $None$.  \n",
    "These should be filtered out using a list comprehension as follows:"
   ]
  },
  {
   "cell_type": "code",
   "execution_count": 1,
   "metadata": {},
   "outputs": [],
   "source": [
    "#print([x for x in recommendationsForUser if x is not None])"
   ]
  },
  {
   "cell_type": "markdown",
   "metadata": {},
   "source": [
    "**TOTAL POINTS: 10**\n",
    "***"
   ]
  },
  {
   "cell_type": "markdown",
   "metadata": {},
   "source": [
    "**About the Alternating Least Squares Parameters**\n",
    "\n",
    "`rank`  \n",
    "The number of latent factors in the model, or equivalently, the number of columns $k$ in the user-feature and product-feature matrices. In nontrivial cases, this is also their rank.\n",
    "\n",
    "`iterations`  \n",
    "The number of iterations that the factorization runs. More iterations take more time but may produce a better factorization.\n",
    "\n",
    "`lambda`  \n",
    "A standard overfitting parameter. Higher values resist overfitting, but values that are too high hurt the factorization’s accuracy."
   ]
  },
  {
   "cell_type": "code",
   "execution_count": 2,
   "metadata": {},
   "outputs": [],
   "source": [
    "# import modules\n",
    "import os\n",
    "\n",
    "from pyspark import SparkContext\n",
    "from pyspark import SparkConf\n",
    "from pyspark.mllib import recommendation\n",
    "from pyspark.mllib.recommendation import *\n",
    "import pandas as pd\n",
    "\n",
    "from pyspark.mllib.recommendation import *\n",
    "import random\n",
    "from operator import *"
   ]
  },
  {
   "cell_type": "code",
   "execution_count": 3,
   "metadata": {},
   "outputs": [],
   "source": [
    "from pyspark import SparkContext, SparkConf\n",
    "spark = SparkContext.getOrCreate()\n",
    "spark.stop()\n",
    "spark = SparkContext('local','Recommender')"
   ]
  },
  {
   "cell_type": "code",
   "execution_count": 4,
   "metadata": {},
   "outputs": [],
   "source": [
    "# set configurations\n",
    "conf = SparkConf().setMaster(\"local\").setAppName(\"autoscrobbler\")"
   ]
  },
  {
   "cell_type": "code",
   "execution_count": 5,
   "metadata": {},
   "outputs": [],
   "source": [
    "# set context\n",
    "sc = SparkContext.getOrCreate(conf=conf)"
   ]
  },
  {
   "cell_type": "code",
   "execution_count": 6,
   "metadata": {},
   "outputs": [],
   "source": [
    "# pathing and params\n",
    "user_artist_data_file = 'user_artist_data.txt'\n",
    "artist_data_file = 'artist_data.txt'\n",
    "artist_alias_data_file  = 'artist_alias.txt'\n",
    "\n",
    "numPartitions = 2\n",
    "topk = 10"
   ]
  },
  {
   "cell_type": "code",
   "execution_count": 7,
   "metadata": {
    "scrolled": true
   },
   "outputs": [
    {
     "data": {
      "text/plain": [
       "user_artist_data.txt MapPartitionsRDD[1] at textFile at NativeMethodAccessorImpl.java:0"
      ]
     },
     "execution_count": 7,
     "metadata": {},
     "output_type": "execute_result"
    }
   ],
   "source": [
    "# read user_artist_data_file into RDD (417MB file, 24MM records of users’ plays of artists, along with count)\n",
    "# specifically, each row holds: userID, artistID, count\n",
    "rawDataRDD = sc.textFile(user_artist_data_file, numPartitions)\n",
    "rawDataRDD.cache()"
   ]
  },
  {
   "cell_type": "code",
   "execution_count": 8,
   "metadata": {},
   "outputs": [
    {
     "data": {
      "text/plain": [
       "['1000002 1 55',\n",
       " '1000002 1000006 33',\n",
       " '1000002 1000007 8',\n",
       " '1000002 1000009 144',\n",
       " '1000002 1000010 314']"
      ]
     },
     "execution_count": 8,
     "metadata": {},
     "output_type": "execute_result"
    }
   ],
   "source": [
    "# userid, artistid, playcount\n",
    "rawDataRDD.take(5)"
   ]
  },
  {
   "cell_type": "code",
   "execution_count": 9,
   "metadata": {},
   "outputs": [],
   "source": [
    "# read artist_data_file using *textFile*\n",
    "# Import test files from location into RDD variables\n",
    "# YOUR CODE GOES HERE\n",
    "#import os\n",
    "#os.getcwd()\n",
    "artistData = sc.textFile('artist_data.txt').map(lambda s:(int(s.split(\"\\t\")[0]),s.split(\"\\t\")[1]))"
   ]
  },
  {
   "cell_type": "code",
   "execution_count": 10,
   "metadata": {},
   "outputs": [
    {
     "data": {
      "text/plain": [
       "[(1134999, '06Crazy Life'),\n",
       " (6821360, 'Pang Nakarin'),\n",
       " (10113088, 'Terfel, Bartoli- Mozart: Don'),\n",
       " (10151459, 'The Flaming Sidebur'),\n",
       " (6826647, 'Bodenstandig 3000')]"
      ]
     },
     "execution_count": 10,
     "metadata": {},
     "output_type": "execute_result"
    }
   ],
   "source": [
    "# inspect some records\n",
    "#artistid, artist_name\n",
    "artistData.take(5)"
   ]
  },
  {
   "cell_type": "code",
   "execution_count": 11,
   "metadata": {},
   "outputs": [],
   "source": [
    "# read artist_alias_data_file using *textFile*\n",
    "artist_alias= sc.textFile('artist_alias.txt')"
   ]
  },
  {
   "cell_type": "code",
   "execution_count": 12,
   "metadata": {},
   "outputs": [
    {
     "data": {
      "text/plain": [
       "['1092764\\t1000311',\n",
       " '1095122\\t1000557',\n",
       " '6708070\\t1007267',\n",
       " '10088054\\t1042317',\n",
       " '1195917\\t1042317']"
      ]
     },
     "execution_count": 12,
     "metadata": {},
     "output_type": "execute_result"
    }
   ],
   "source": [
    "# inspect some records\n",
    "# id, id \n",
    "artist_alias.take(5)"
   ]
  },
  {
   "cell_type": "code",
   "execution_count": 13,
   "metadata": {},
   "outputs": [],
   "source": [
    "from pyspark.mllib.recommendation import *\n",
    "import random\n",
    "from operator import *\n",
    "def parser(s, delimeters=\" \", to_int=None):\n",
    "    s = s.split(delimeters)\n",
    "    if to_int:\n",
    "        return tuple([int(s[i]) if i in to_int else s[i] for i in range(len(s))])\n",
    "    return tuple(s)\n",
    "artistData = sc.textFile(\"artist_data.txt\").map(lambda x: parser(x,'\\t',[0]))\n",
    "artistAlias = sc.textFile(\"artist_alias.txt\").map(lambda x: parser(x,'\\t', [0,1]))\n",
    "userArtistData = sc.textFile(\"user_artist_data.txt\").map(lambda x: parser(x,' ',[0,1,2]))"
   ]
  },
  {
   "cell_type": "code",
   "execution_count": 14,
   "metadata": {},
   "outputs": [
    {
     "data": {
      "text/plain": [
       "['9875 9973009 2',\n",
       " '9875 979 41',\n",
       " '9875 976 3',\n",
       " '9875 949 29',\n",
       " '9875 930 1',\n",
       " '9875 929 1',\n",
       " '9875 92 1',\n",
       " '9875 910 1',\n",
       " '9875 891 32',\n",
       " '9875 868 12']"
      ]
     },
     "execution_count": 14,
     "metadata": {},
     "output_type": "execute_result"
    }
   ],
   "source": [
    "# 1) (1 PT) Print the first 10 records from rawDataRDD\n",
    "rawDataRDD\n",
    "rawDataRDD.top(topk)"
   ]
  },
  {
   "cell_type": "code",
   "execution_count": 15,
   "metadata": {},
   "outputs": [],
   "source": [
    "def parseArtistIdNamePair(singlePair):\n",
    "   splitPair = singlePair.rsplit('\\t')\n",
    "   # we should have two items in the list - id and name of the artist.\n",
    "   if len(splitPair) != 2:\n",
    "       #print singlePair\n",
    "       return []\n",
    "   else:\n",
    "       try:\n",
    "           return [(int(splitPair[0]), splitPair[1])]\n",
    "       except:\n",
    "           return []"
   ]
  },
  {
   "cell_type": "code",
   "execution_count": 16,
   "metadata": {},
   "outputs": [],
   "source": [
    "rawArtistRDD = sc.textFile(artist_data_file)"
   ]
  },
  {
   "cell_type": "code",
   "execution_count": 17,
   "metadata": {},
   "outputs": [],
   "source": [
    "artistByID = dict(rawArtistRDD.flatMap(lambda x: parseArtistIdNamePair(x)).collect())"
   ]
  },
  {
   "cell_type": "code",
   "execution_count": 22,
   "metadata": {},
   "outputs": [],
   "source": [
    "# 2) (1 PT) Print 10 values from artistByID, using topk variable\n",
    "from collections import Counter\n",
    "import collections\n",
    "topk = 10\n",
    "# Hint: the most_common() function may help"
   ]
  },
  {
   "cell_type": "code",
   "execution_count": 23,
   "metadata": {},
   "outputs": [
    {
     "data": {
      "text/plain": [
       "[('06Crazy Life', 1),\n",
       " ('Pang Nakarin', 1),\n",
       " ('Terfel, Bartoli- Mozart: Don', 1),\n",
       " ('The Flaming Sidebur', 1),\n",
       " ('Bodenstandig 3000', 1),\n",
       " ('Jota Quest e Ivete Sangalo', 1),\n",
       " ('Toto_XX (1977', 1),\n",
       " ('U.S Bombs -', 1),\n",
       " ('artist formaly know as Mat', 1),\n",
       " ('Kassierer - Musik für beide Ohren', 1)]"
      ]
     },
     "execution_count": 23,
     "metadata": {},
     "output_type": "execute_result"
    }
   ],
   "source": [
    "c = Counter(artist_vals)\n",
    "c.most_common(topk)"
   ]
  },
  {
   "cell_type": "code",
   "execution_count": 24,
   "metadata": {},
   "outputs": [],
   "source": [
    "def parseArtistAlias(alias):\n",
    "    splitPair = alias.rsplit('\\t')\n",
    "    # we should have two ids in the list.\n",
    "    if len(splitPair) != 2:\n",
    "        #print singlePair\n",
    "        return []\n",
    "    else:\n",
    "        try:\n",
    "            return [(int(splitPair[0]), int(splitPair[1]))]\n",
    "        except:\n",
    "            return []"
   ]
  },
  {
   "cell_type": "code",
   "execution_count": 25,
   "metadata": {},
   "outputs": [],
   "source": [
    "rawAliasRDD = sc.textFile(artist_alias_data_file)"
   ]
  },
  {
   "cell_type": "code",
   "execution_count": 26,
   "metadata": {},
   "outputs": [],
   "source": [
    "artistAlias = rawAliasRDD.flatMap(lambda x: parseArtistAlias(x)).collectAsMap()"
   ]
  },
  {
   "cell_type": "code",
   "execution_count": 27,
   "metadata": {},
   "outputs": [],
   "source": [
    "# Create a dictionary of artist id's\n",
    "# artist"
   ]
  },
  {
   "cell_type": "code",
   "execution_count": 28,
   "metadata": {},
   "outputs": [],
   "source": [
    "# turn the artistAlias into a broadcast variable.\n",
    "# This will distribute it to worker nodes efficiently, so we save bandwidth.\n",
    "artistAliasBroadcast = sc.broadcast( artistAlias )"
   ]
  },
  {
   "cell_type": "code",
   "execution_count": 29,
   "metadata": {},
   "outputs": [
    {
     "data": {
      "text/plain": [
       "1007797"
      ]
     },
     "execution_count": 29,
     "metadata": {},
     "output_type": "execute_result"
    }
   ],
   "source": [
    "artistAliasBroadcast.value.get(2097174)"
   ]
  },
  {
   "cell_type": "code",
   "execution_count": 30,
   "metadata": {},
   "outputs": [
    {
     "name": "stdout",
     "output_type": "stream",
     "text": [
      "24296858\n"
     ]
    }
   ],
   "source": [
    "# Print the number of records from the largest RDD, rawDataRDD\n",
    "print( rawDataRDD.count() )"
   ]
  },
  {
   "cell_type": "code",
   "execution_count": 31,
   "metadata": {},
   "outputs": [
    {
     "data": {
      "text/plain": [
       "PythonRDD[26] at RDD at PythonRDD.scala:53"
      ]
     },
     "execution_count": 31,
     "metadata": {},
     "output_type": "execute_result"
    }
   ],
   "source": [
    "# Sample 10% of rawDataRDD using seed 314, to reduce runtime. Call it sample.\n",
    "seed = 314\n",
    "weights = [.9, .1]\n",
    "sample, _ = rawDataRDD.randomSplit(weights, seed)\n",
    "sample.cache()"
   ]
  },
  {
   "cell_type": "code",
   "execution_count": 32,
   "metadata": {},
   "outputs": [
    {
     "data": {
      "text/plain": [
       "['1000002 1 55',\n",
       " '1000002 1000006 33',\n",
       " '1000002 1000007 8',\n",
       " '1000002 1000009 144',\n",
       " '1000002 1000010 314']"
      ]
     },
     "execution_count": 32,
     "metadata": {},
     "output_type": "execute_result"
    }
   ],
   "source": [
    "# take the first 5 records from the sample. each row represents userID, artistID, count.\n",
    "sample.take(5)"
   ]
  },
  {
   "cell_type": "code",
   "execution_count": 33,
   "metadata": {},
   "outputs": [],
   "source": [
    "artistByIDBroadCast = sc.broadcast(artistByID)"
   ]
  },
  {
   "cell_type": "code",
   "execution_count": 34,
   "metadata": {},
   "outputs": [],
   "source": [
    "# Based on sampled data, build the matrix for model training\n",
    "def mapSingleObservation(x):\n",
    "    # Returns Rating object represented as (user, product, rating) tuple.\n",
    "    # [add line of code here to split each record into userID, artistID, count]\n",
    "    userID, artistID, count = map(lambda lineItem: int(lineItem), x.split())\n",
    "    # given possible aliasing, get finalArtistID\n",
    "    finalArtistID = artistAliasBroadcast.value.get(artistID)\n",
    "    if finalArtistID is None:\n",
    "        finalArtistID = artistID\n",
    "    return Rating(userID, finalArtistID, count)"
   ]
  },
  {
   "cell_type": "code",
   "execution_count": 35,
   "metadata": {},
   "outputs": [
    {
     "data": {
      "text/plain": [
       "PythonRDD[28] at RDD at PythonRDD.scala:53"
      ]
     },
     "execution_count": 35,
     "metadata": {},
     "output_type": "execute_result"
    }
   ],
   "source": [
    "trainData = sample.map(lambda x: mapSingleObservation(x))\n",
    "trainData.cache()"
   ]
  },
  {
   "cell_type": "code",
   "execution_count": 36,
   "metadata": {},
   "outputs": [
    {
     "data": {
      "text/plain": [
       "[Rating(user=1000002, product=1, rating=55.0),\n",
       " Rating(user=1000002, product=1000006, rating=33.0),\n",
       " Rating(user=1000002, product=1000007, rating=8.0),\n",
       " Rating(user=1000002, product=1000009, rating=144.0),\n",
       " Rating(user=1000002, product=1000010, rating=314.0)]"
      ]
     },
     "execution_count": 36,
     "metadata": {},
     "output_type": "execute_result"
    }
   ],
   "source": [
    "# 3) (1 PT) Print the first 5 records from trainData\n",
    "trainData.take(5)"
   ]
  },
  {
   "cell_type": "code",
   "execution_count": 41,
   "metadata": {},
   "outputs": [],
   "source": [
    "# Train the ALS model, using seed 314, rank 10, iterations 5, lambda_ 0.01. Call it model.\n",
    "from pyspark.mllib.recommendation import *\n",
    "model = ALS.trainImplicit(trainData, rank=10, iterations = 5, alpha = 0.01)"
   ]
  },
  {
   "cell_type": "code",
   "execution_count": 43,
   "metadata": {},
   "outputs": [],
   "source": [
    "# Model Evaluation\n",
    "\n",
    "# fetch artists for a test user\n",
    "testUserID = 1000002\n",
    "\n",
    "# broadcast artistByID for speed\n",
    "artistByIDBroadcast = sc.broadcast( artistByID )\n",
    "\n",
    "# from trainData, collect the artists for the test user. Call the object artistsForUser.\n",
    "# hint: you will need to apply .value.get(x.product) to the broadcast artistByID, where x is the Rating RDD.\n",
    "# if you don't do this, you may see artistIDs. you want artist names.\n",
    "artistsForUser = (trainData\n",
    "                  .filter(lambda observation: observation.user == testUserID)\n",
    "                  .map(lambda observation: artistByIDBroadcast.value.get(observation.product))\n",
    "                  .collect())"
   ]
  },
  {
   "cell_type": "code",
   "execution_count": 48,
   "metadata": {},
   "outputs": [
    {
     "name": "stdout",
     "output_type": "stream",
     "text": [
      "['Mallrats', 'Kerrang', 'Brian Hughes', 'Joshua Redman', 'The Mystick Krewe of Clearlight', 'Benny Goodman Orchestra', 'YMC', 'Brant Bjork and The Operators', 'Firebird', 'Elvis Costello', 'Café Del Mar', 'Eric Clapton', 'Enigma', 'Eurythmics', 'Armand Van Helden', 'Echo & the Bunnymen', 'George Duke']\n"
     ]
    }
   ],
   "source": [
    "res = [i for i in artistsForUser if i]\n",
    "print(res)"
   ]
  },
  {
   "cell_type": "code",
   "execution_count": 49,
   "metadata": {},
   "outputs": [
    {
     "data": {
      "text/plain": [
       "[('06Crazy Life', 1),\n",
       " ('Pang Nakarin', 1),\n",
       " ('Terfel, Bartoli- Mozart: Don', 1),\n",
       " ('The Flaming Sidebur', 1),\n",
       " ('Bodenstandig 3000', 1),\n",
       " ('Jota Quest e Ivete Sangalo', 1),\n",
       " ('Toto_XX (1977', 1),\n",
       " ('U.S Bombs -', 1),\n",
       " ('artist formaly know as Mat', 1),\n",
       " ('Kassierer - Musik für beide Ohren', 1)]"
      ]
     },
     "execution_count": 49,
     "metadata": {},
     "output_type": "execute_result"
    }
   ],
   "source": [
    "# 4) (1 PT) Print the artist listens for testUserID = 1000002\n",
    "c = Counter(artist_vals)\n",
    "c.most_common(topk)"
   ]
  },
  {
   "cell_type": "code",
   "execution_count": 59,
   "metadata": {},
   "outputs": [
    {
     "name": "stdout",
     "output_type": "stream",
     "text": [
      "['Eric Clapton', 'Elvis Costello', 'Eurythmics', 'Scorpions', 'Enigma', 'Gary Jules', '植松伸夫', 'Nena', 'Joss Stone']\n"
     ]
    }
   ],
   "source": [
    "# 5) (2 PTS) Make 10 recommendations for testUserID = 1000002\n",
    "num_recomm = 500\n",
    "recommendationsForUser_rank10 = map(lambda observation: artistByID.get(observation.product), model.call(\"recommendProducts\", testUserID, num_recomm))\n",
    "print([x for x in recommendationsForUser_rank10 if x is not None])"
   ]
  },
  {
   "cell_type": "code",
   "execution_count": 56,
   "metadata": {},
   "outputs": [],
   "source": [
    "# Train a second ALS model with rank 20, iterations 5, lambda 0.01.\n",
    "model_2 = ALS.trainImplicit(trainData, rank= 20, iterations = 5, alpha = 0.01)"
   ]
  },
  {
   "cell_type": "code",
   "execution_count": 60,
   "metadata": {},
   "outputs": [
    {
     "name": "stdout",
     "output_type": "stream",
     "text": [
      "['Eric Clapton', 'Eurythmics', 'Scorpions', 'Elvis Costello', 'Enigma', 'Gary Jules', 'Nena', 'Joss Stone']\n"
     ]
    }
   ],
   "source": [
    "# 6) (2 PTS) Using the rank 20 model, make 10 recommendations for the same test user\n",
    "num_recomm = 500\n",
    "recommendationsForUser_rank20 = map(lambda observation: artistByID.get(observation.product), model_2.call(\"recommendProducts\", testUserID, num_recomm))\n",
    "print([x for x in recommendationsForUser_rank20 if x is not None])"
   ]
  },
  {
   "cell_type": "markdown",
   "metadata": {},
   "source": [
    "#### ANSWER SECTION (COPY ALL ANSWERS HERE)"
   ]
  },
  {
   "cell_type": "code",
   "execution_count": 220,
   "metadata": {},
   "outputs": [
    {
     "data": {
      "text/plain": [
       "['9875 9973009 2',\n",
       " '9875 979 41',\n",
       " '9875 976 3',\n",
       " '9875 949 29',\n",
       " '9875 930 1',\n",
       " '9875 929 1',\n",
       " '9875 92 1',\n",
       " '9875 910 1',\n",
       " '9875 891 32',\n",
       " '9875 868 12']"
      ]
     },
     "execution_count": 220,
     "metadata": {},
     "output_type": "execute_result"
    }
   ],
   "source": [
    "# ANSWER 1 (1 PT)\n",
    "# Print the first 10 records from rawDataRDD\n",
    "rawDataRDD.top(topk)"
   ]
  },
  {
   "cell_type": "code",
   "execution_count": 86,
   "metadata": {},
   "outputs": [
    {
     "data": {
      "text/plain": [
       "[('06Crazy Life', 1),\n",
       " ('Pang Nakarin', 1),\n",
       " ('Terfel, Bartoli- Mozart: Don', 1),\n",
       " ('The Flaming Sidebur', 1),\n",
       " ('Bodenstandig 3000', 1),\n",
       " ('Jota Quest e Ivete Sangalo', 1),\n",
       " ('Toto_XX (1977', 1),\n",
       " ('U.S Bombs -', 1),\n",
       " ('artist formaly know as Mat', 1),\n",
       " ('Kassierer - Musik für beide Ohren', 1)]"
      ]
     },
     "execution_count": 86,
     "metadata": {},
     "output_type": "execute_result"
    }
   ],
   "source": [
    "# ANSWER 2 (1 PT)\n",
    "# Print topk values from artistByID\n",
    "c = Counter(artist_vals)\n",
    "c.most_common(topk)"
   ]
  },
  {
   "cell_type": "code",
   "execution_count": 62,
   "metadata": {},
   "outputs": [
    {
     "data": {
      "text/plain": [
       "[Rating(user=1000002, product=1, rating=55.0),\n",
       " Rating(user=1000002, product=1000006, rating=33.0),\n",
       " Rating(user=1000002, product=1000007, rating=8.0),\n",
       " Rating(user=1000002, product=1000009, rating=144.0),\n",
       " Rating(user=1000002, product=1000010, rating=314.0)]"
      ]
     },
     "execution_count": 62,
     "metadata": {},
     "output_type": "execute_result"
    }
   ],
   "source": [
    "# ANSWER 3 (1 PT)\n",
    "# Print the first 5 records from trainData\n",
    "trainData.take(5)"
   ]
  },
  {
   "cell_type": "code",
   "execution_count": 219,
   "metadata": {},
   "outputs": [
    {
     "name": "stdout",
     "output_type": "stream",
     "text": [
      "['Mallrats', 'Kerrang', 'Brian Hughes', 'Joshua Redman', 'The Mystick Krewe of Clearlight', 'Benny Goodman Orchestra', 'YMC', 'Brant Bjork and The Operators', 'Firebird', 'Elvis Costello', 'Café Del Mar', 'Eric Clapton', 'Enigma', 'Eurythmics', 'Armand Van Helden', 'Echo & the Bunnymen', 'George Duke']\n"
     ]
    }
   ],
   "source": [
    "# ANSWER 4 (1 PT)\n",
    "# Print the artist listens for testUserID = 1000002\n",
    "res = [i for i in artistsForUser if i]\n",
    "print(res)"
   ]
  },
  {
   "cell_type": "code",
   "execution_count": 63,
   "metadata": {},
   "outputs": [
    {
     "name": "stdout",
     "output_type": "stream",
     "text": [
      "['Eric Clapton', 'Elvis Costello', 'Eurythmics', 'Scorpions', 'Enigma', 'Gary Jules', '植松伸夫', 'Nena', 'Joss Stone']\n"
     ]
    }
   ],
   "source": [
    "# ANSWER 5 (2 PTS)\n",
    "# Make 10 recommendations for testUserID = 1000002\n",
    "num_recomm = 500\n",
    "recommendationsForUser_rank10 = map(lambda observation: artistByID.get(observation.product), model.call(\"recommendProducts\", testUserID, num_recomm))\n",
    "print([x for x in recommendationsForUser_rank10 if x is not None])"
   ]
  },
  {
   "cell_type": "code",
   "execution_count": 64,
   "metadata": {},
   "outputs": [
    {
     "name": "stdout",
     "output_type": "stream",
     "text": [
      "['Eric Clapton', 'Eurythmics', 'Scorpions', 'Elvis Costello', 'Enigma', 'Gary Jules', 'Nena', 'Joss Stone']\n"
     ]
    }
   ],
   "source": [
    "# ANSWER 6 (2 PTS)\n",
    "# Using the rank 20 model, make 10 recommendations for testUserID = 1000002\n",
    "num_recomm = 500\n",
    "recommendationsForUser_rank20 = map(lambda observation: artistByID.get(observation.product), model_2.call(\"recommendProducts\", testUserID, num_recomm))\n",
    "print([x for x in recommendationsForUser_rank20 if x is not None])"
   ]
  },
  {
   "cell_type": "code",
   "execution_count": null,
   "metadata": {},
   "outputs": [],
   "source": [
    "# ANSWER 7 (2 PTS)\n",
    "# How does the rank 10 model seem to perform versus the rank 20 model?\n",
    "# The contents of artistsForUser may help answer the question."
   ]
  },
  {
   "cell_type": "code",
   "execution_count": 70,
   "metadata": {},
   "outputs": [],
   "source": [
    "list1 = ['Mallrats', 'Kerrang', 'Brian Hughes', 'Joshua Redman', 'The Mystick Krewe of Clearlight', 'Benny Goodman Orchestra', 'YMC', 'Brant Bjork and The Operators', 'Firebird', 'Elvis Costello', 'Café Del Mar', 'Eric Clapton', 'Enigma', 'Eurythmics', 'Armand Van Helden', 'Echo & the Bunnymen', 'George Duke']\n",
    "list2_r10 = ['Eric Clapton', 'Elvis Costello', 'Eurythmics', 'Scorpions', 'Enigma', 'Gary Jules', '植松伸夫', 'Nena', 'Joss Stone']\n",
    "list3_r20 = ['Eric Clapton', 'Eurythmics', 'Scorpions', 'Elvis Costello', 'Enigma', 'Gary Jules', 'Nena', 'Joss Stone']\n",
    "comment_elements_r10 = []\n",
    "comment_elements_r20 = []\n",
    "set1=set(list1)\n",
    "common_elements_r10= set1.intersection(list2_r10)\n",
    "common_elements_r20 = set1.intersection(list3_r20)"
   ]
  },
  {
   "cell_type": "code",
   "execution_count": 71,
   "metadata": {},
   "outputs": [
    {
     "name": "stdout",
     "output_type": "stream",
     "text": [
      "{'Eric Clapton', 'Enigma', 'Eurythmics', 'Elvis Costello'}\n"
     ]
    }
   ],
   "source": [
    "print(common_elements_r10)"
   ]
  },
  {
   "cell_type": "code",
   "execution_count": 73,
   "metadata": {},
   "outputs": [
    {
     "name": "stdout",
     "output_type": "stream",
     "text": [
      "{'Eric Clapton', 'Enigma', 'Eurythmics', 'Elvis Costello'}\n"
     ]
    }
   ],
   "source": [
    "print(common_elements_r20)"
   ]
  },
  {
   "cell_type": "markdown",
   "metadata": {},
   "source": [
    "The rank controls the number of internal parameters that must be fit from the data, too many and you get overgitting your trainning set.\n",
    "Since we might not know the underlying factor. The more you use, the better the results up to a point, but the more memory and computation time you will need. I compare the rank 10 to artistForusers to see the common element. I also compare the rank 20 to artistForusers to see the common element. I found the common users are  {'Eric Clapton', 'Enigma', 'Eurythmics', 'Elvis Costello'}.  Again, since we might need to guess to see the underlying factors, the chosen rank higher should be better since the ranks refers to the presumed latent or hidden factors. However, we also need to avoid the overfitting issue."
   ]
  }
 ],
 "metadata": {
  "kernelspec": {
   "display_name": "Python 3",
   "language": "python",
   "name": "python3"
  },
  "language_info": {
   "codemirror_mode": {
    "name": "ipython",
    "version": 3
   },
   "file_extension": ".py",
   "mimetype": "text/x-python",
   "name": "python",
   "nbconvert_exporter": "python",
   "pygments_lexer": "ipython3",
   "version": "3.7.1"
  }
 },
 "nbformat": 4,
 "nbformat_minor": 2
}
